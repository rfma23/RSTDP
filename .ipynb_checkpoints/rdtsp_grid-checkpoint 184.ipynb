{
 "cells": [
  {
   "cell_type": "markdown",
   "metadata": {},
   "source": [
    "## Basic R-STDP Example"
   ]
  },
  {
   "cell_type": "markdown",
   "metadata": {},
   "source": [
    "As an input for this basic R-STDP example we will give a `11x3` grid"
   ]
  },
  {
   "cell_type": "code",
   "execution_count": 1,
   "metadata": {},
   "outputs": [],
   "source": [
    "import random\n",
    "import numpy as np\n",
    "import matplotlib.pyplot as plt"
   ]
  },
  {
   "cell_type": "code",
   "execution_count": 2,
   "metadata": {},
   "outputs": [],
   "source": [
    "spike_dtype = np.dtype([('x', np.uint8), ('y', np.uint8), ('ts', np.float32)])\n",
    "c1_spike_dtype = np.dtype([('grid', np.uint8), ('y', np.uint8), ('x', np.uint8), ('ts', np.float32)])"
   ]
  },
  {
   "cell_type": "code",
   "execution_count": 3,
   "metadata": {},
   "outputs": [],
   "source": [
    "class Grid:\n",
    "    \"\"\"\n",
    "        Each grid represents a pixel array with spikes occurring at\n",
    "        a certain location at the given timestamp.\n",
    "    \"\"\"\n",
    "    def __init__(self, xsize, ysize, grid):\n",
    "        self.xsize = xsize\n",
    "        self.ysize = ysize\n",
    "        self.grid = grid\n",
    "        \n",
    "    @classmethod\n",
    "    def get_grid(cls, i):\n",
    "        \"\"\"\n",
    "            Allows easy initialization of a grid\n",
    "        \"\"\"\n",
    "        if i == 0 :\n",
    "            grid = np.array([[0,0,0,0,0,0,0,0,0,0,0],\n",
    "                             [0,0,0,0,0,0,0,0,0,0,0],\n",
    "                             [0,0,0,0,0,0,0,0,0,0,0]],\n",
    "                           dtype=np.float32)\n",
    "        elif i == 1 :\n",
    "            grid = np.array([[1,0,0,0,5,6,7,0,0,0,9],\n",
    "                             [2,3,0,0,0,8,0,0,0,10,11],\n",
    "                             [4,0,0,0,0,0,0,0,0,0,12]],\n",
    "                           dtype=np.float32)\n",
    "            \n",
    "        elif i == 2 :\n",
    "            grid = np.array([[1,0,0,0,9,10,11,0,0,0,5],\n",
    "                             [2,3,0,0,0,12,0,0,0,6,7],\n",
    "                             [4,0,0,0,0,0,0,0,0,0,8]],\n",
    "                           dtype=np.float32)\n",
    "        else:\n",
    "            raise ValueError('Not a supported grid type')\n",
    "            \n",
    "        return cls(11, 3, grid)\n",
    "    \n",
    "    def show(self):\n",
    "        \"\"\"\n",
    "            Prints a visual representation of the grid including \n",
    "            spike's timestamps\n",
    "        \"\"\"\n",
    "        grayscale = (self.grid > 0).astype(int)\n",
    "        for (j, i), value in np.ndenumerate(self.grid):\n",
    "            if value > 0 : plt.text(i, j, int(value))\n",
    "        plt.imshow(grayscale, vmin=-1, vmax =1, cmap='gray')\n",
    "        plt.xticks(range(self.grid.shape[1]), rotation=0)\n",
    "        plt.show()\n",
    "    \n",
    "    @property\n",
    "    def spikes(self):\n",
    "        \"\"\"\n",
    "            Retrieves the grid spikes in a recarray format with\n",
    "            spikes sorted by timestamp\n",
    "        \"\"\"\n",
    "        grid_spikes = []\n",
    "        for (j, i), value in np.ndenumerate(self.grid):\n",
    "             if value > 0 : grid_spikes.append((i, j, value))\n",
    "        np_spikes = np.array(grid_spikes, dtype=spike_dtype)\n",
    "        np_spikes.sort(order='ts')\n",
    "        return np_spikes\n",
    "    \n",
    "    @property\n",
    "    def shape(self):\n",
    "        return self.grid.shape\n",
    "    \n",
    "    def __str__(self):\n",
    "        return f\"{self.spikes}\"\n",
    "    \n",
    "    def __repr__(self):\n",
    "        return self.__str__()\n",
    "    "
   ]
  },
  {
   "cell_type": "code",
   "execution_count": 4,
   "metadata": {},
   "outputs": [
    {
     "data": {
      "image/png": "[encoded data removed]",
      "text/plain": [
       "<Figure size 432x288 with 1 Axes>"
      ]
     },
     "metadata": {
      "needs_background": "light"
     },
     "output_type": "display_data"
    }
   ],
   "source": [
    "a = Grid.get_grid(1)\n",
    "a.show()"
   ]
  },
  {
   "cell_type": "code",
   "execution_count": 5,
   "metadata": {},
   "outputs": [
    {
     "data": {
      "text/plain": [
       "array([( 0, 0,  1.), ( 0, 1,  2.), ( 1, 1,  3.), ( 0, 2,  4.),\n",
       "       ( 4, 0,  5.), ( 5, 0,  6.), ( 6, 0,  7.), ( 5, 1,  8.),\n",
       "       (10, 0,  9.), ( 9, 1, 10.), (10, 1, 11.), (10, 2, 12.)],\n",
       "      dtype=[('x', 'u1'), ('y', 'u1'), ('ts', '<f4')])"
      ]
     },
     "execution_count": 5,
     "metadata": {},
     "output_type": "execute_result"
    }
   ],
   "source": [
    "a.spikes"
   ]
  },
  {
   "cell_type": "code",
   "execution_count": 6,
   "metadata": {},
   "outputs": [
    {
     "data": {
      "image/png": "[encoded data removed]",
      "text/plain": [
       "<Figure size 432x288 with 1 Axes>"
      ]
     },
     "metadata": {
      "needs_background": "light"
     },
     "output_type": "display_data"
    }
   ],
   "source": [
    "b = Grid.get_grid(2)\n",
    "b.show()"
   ]
  },
  {
   "cell_type": "markdown",
   "metadata": {},
   "source": [
    "# Neuronal Grids"
   ]
  },
  {
   "cell_type": "markdown",
   "metadata": {},
   "source": [
    "The neuronal grid has $n$ integrate-and-fire (IF) neurons with threshold $\\mathcal{T}$. Each neuron receives its inputs from a $\\omega \\times \\omega$ window -- also called the neuron's receptive field (RF) -- through weighted plastic synapses. In order to provide the ability of detecting a particular feature over the entire spatial positions, all the neurons belonging to the same grid share the same weights."
   ]
  },
  {
   "cell_type": "markdown",
   "metadata": {},
   "source": [
    "At the arrival of a spike, we compute its relative position to a neuron $(x_r, y_r)$ and we increase the neuron's synaptic potential with the weight of the relative position if the spike is in its receptive field. In other words, the synaptic potential of neuron $i$ at time $t$ is: \n",
    "\n",
    "$$ v_i(t) = v_i(t-1) + \\sum_{(x_r, y_r) \\in {RF}}{w_{(x_r, y_r)} \\cdot \\delta(t-t_{spike}(j)}) $$"
   ]
  },
  {
   "cell_type": "markdown",
   "metadata": {},
   "source": [
    "Each neuronal grid detects a feature, the idea is to have multiple grids and associate each grid to a class."
   ]
  },
  {
   "cell_type": "code",
   "execution_count": 7,
   "metadata": {},
   "outputs": [],
   "source": [
    "from numba import njit\n",
    "import itertools \n",
    "import logging\n",
    "#logging.basicConfig(filename='grid_mac.log',\n",
    "                    #format='%(asctime)s | %(levelname)s | %(message)s',\n",
    "                    #level=logging.INFO)"
   ]
  },
  {
   "cell_type": "code",
   "execution_count": 8,
   "metadata": {},
   "outputs": [],
   "source": [
    "class NeuronalGrids:\n",
    "    def __init__(self, input_grid_shape, neuron_rf=3, n_grids=4):\n",
    "        \n",
    "        self.input_grid_shape = input_grid_shape\n",
    "        self.grid_shape = ((input_grid_shape[0] - neuron_rf + 1),\n",
    "                           (input_grid_shape[1] - neuron_rf + 1))\n",
    "        \n",
    "        self.n_grids = n_grids\n",
    "        self.neuron_rf = neuron_rf\n",
    "        \n",
    "        self.synaptic_weights = self.initialise_weights(n_grids, neuron_rf)\n",
    "        self.neuron_potential = np.zeros((n_grids, *self.grid_shape), dtype=np.float32)\n",
    "        \n",
    "        self.sensitive_neurons_to_pos = self.get_sensitive_neurons()\n",
    "        self.neuron_threshold = 2.6\n",
    "        \n",
    "        self.reset_metrics()\n",
    "        self.Ar_plus = 0.075\n",
    "        self.Ar_neg = -0.05\n",
    "        self.Ap_plus = 0.05\n",
    "        self.Ap_neg = -0.1\n",
    "        \n",
    "        # to keep weights between [small_qty, 1-small_qty]\n",
    "        self.small_qty = 0.005\n",
    "    \n",
    "    def initialise_weights(self, n_grids, window_size, mu=0.8, sigma=0.05):\n",
    "        \"\"\"\n",
    "            Initialises the grid weights with values sampled from a normal\n",
    "            distribution mathcal{N}(mu, sigma2)\n",
    "        \"\"\"\n",
    "        # extract as many random samples as needed\n",
    "        grid = np.random.normal(mu, sigma, (n_grids, self.neuron_rf, self.neuron_rf))\n",
    "\n",
    "        # return them as a matrix\n",
    "        result = np.reshape(grid, (n_grids, self.neuron_rf, self.neuron_rf))\n",
    "        #result = np.full((n_grids, self.neuron_rf, self.neuron_rf), 0.8)\n",
    "        \n",
    "        return result\n",
    "    \n",
    "    def reset_metrics(self):\n",
    "        self.n_silence = 0\n",
    "        self.n_hit = 0\n",
    "        self.n_miss = 0\n",
    "        self.n_samples = 0\n",
    "                \n",
    "    def get_temporal_winner(self, spikes, dropout=0.1):\n",
    "        \n",
    "        hasFired = False\n",
    "        is_active = np.random.random((self.n_grids))\n",
    "        is_active_neuron = np.random.random((self.grid_shape))\n",
    "        \n",
    "        for spike in spikes:\n",
    "            for grid in range(self.n_grids):\n",
    "                \n",
    "                if is_active[grid] > dropout:\n",
    "                    if not hasFired:\n",
    "\n",
    "                        affected_neurons = self.sensitive_neurons(spike)\n",
    "\n",
    "                        for neuron in affected_neurons:\n",
    "                            \n",
    "                            if is_active_neuron[neuron] > dropout:\n",
    "                                \n",
    "                                neuron_row, neuron_col = neuron\n",
    "                            \n",
    "                                relative_y, relative_x = self.relative_position(spike, neuron, self.neuron_rf)\n",
    "\n",
    "                                logging.info(f'Processing spike {spike}, Neuron {(neuron_row, neuron_col)}, Grid {grid}' + \\\n",
    "                                         f'Relative Pos {(relative_y, relative_x)}')\n",
    "                            \n",
    "                                self.neuron_potential[grid, neuron_row, neuron_col] += self.synaptic_weights[grid, relative_y, relative_x]\n",
    "\n",
    "                                if self.neuron_potential[grid, neuron_row, neuron_col] > self.neuron_threshold:\n",
    "                                    out_spike = np.array([(grid, neuron_row, neuron_col, spike['ts'])], dtype=c1_spike_dtype)\n",
    "                                    hasFired = True\n",
    "                                    break\n",
    "                                    \n",
    "                            # else ignore neuron\n",
    "\n",
    "                    else: # has fired\n",
    "                        return out_spike[0]\n",
    "                    \n",
    "                # else skip grid\n",
    "        else:\n",
    "            return None\n",
    "    \n",
    "    def predict(self, spikes):\n",
    "        self.neuron_potential = np.zeros((self.n_grids, *self.grid_shape), dtype=np.float32)\n",
    "         winner_spike = self.get_temporal_winner(spikes, dropout=0)\n",
    "            \n",
    "        # get the class prediction of the winner\n",
    "        pred_class = winner_spike['grid'] % 2\n",
    "        \n",
    "        return pred_class\n",
    "        \n",
    "    def process(self, spikes, label, train=True):\n",
    "        \n",
    "        self.neuron_potential = np.zeros((self.n_grids, *self.grid_shape), dtype=np.float32)\n",
    "        \n",
    "        winner_spike = self.get_temporal_winner(spikes)\n",
    "        logging.info(winner_spike)\n",
    "        \n",
    "        # there can be no winners (no spikes), by default\n",
    "        reward = False\n",
    "        pred_class = None\n",
    "        \n",
    "        # if there is a winner: \n",
    "        if winner_spike is not None:\n",
    "            \n",
    "            # get the class prediction of the winner\n",
    "            pred_class = winner_spike['grid'] % 2\n",
    "            \n",
    "            # get the corresponding reward:\n",
    "            is_correct = (pred_class == label)\n",
    "            reward = is_correct\n",
    "            \n",
    "            logging.info(f'Reward {reward}, label {label}')\n",
    "            # compute metrics for performance and adjustment factor\n",
    "            self.n_hit += int(is_correct)\n",
    "            self.n_miss += int(is_correct)\n",
    "            \n",
    "            # if in training mode\n",
    "            if train:\n",
    "                # now we should trigger the learning process (only the winner grid updates its weights)\n",
    "                self.synaptic_plasticity(winner_spike, reward, spikes)\n",
    "        \n",
    "        # else there was no winner (silence)\n",
    "        else:\n",
    "            # increase all weights equally to the grids associated to the class\n",
    "            self.synaptic_weights[label] += 0.00005\n",
    "            # consider that for metrics\n",
    "            self.n_silence +=1\n",
    "            \n",
    "            # If none of the C2 neurons fire, no reward/punishment signal is generated, \n",
    "            # and thus, no weight change is applied.\n",
    "            \n",
    "                \n",
    "        # whatever the result, we processed one image\n",
    "        self.n_samples += 1\n",
    "        \n",
    "        return pred_class\n",
    "    \n",
    "    def synaptic_plasticity(self, winner_spike, reward, c1_spikes): \n",
    "        \n",
    "        \n",
    "        # self.synaptic_weights[winner_spike['grid']] contains the weights between C1 and S2, \n",
    "        # for a grid with one weight linking each orientation and (x,y) pixel\n",
    "        \n",
    "        grid_ix = winner_spike['grid']\n",
    "        \n",
    "        #if grid_ix==0: print(f\"Winner spike {winner_spike}, correct {reward}\")\n",
    "        # get whether there was a C1 spike relevant to neuron (in its receptive field)\n",
    "        # which spiked before the S2 spike\n",
    "        spiked_before_post = self.get_whether_pre_spiked_before_post(winner_spike, c1_spikes)\n",
    "        \n",
    "        # compute RSTDP update\n",
    "        computed_delta_weights = compute_RSTDP(self.synaptic_weights[grid_ix], spiked_before_post, reward, self.Ar_plus, self.Ar_neg, self.Ap_plus, self.Ap_neg)\n",
    "        \n",
    "        logging.info(f'Weights {self.synaptic_weights[grid_ix]}, Updates {computed_delta_weights}')\n",
    "        \n",
    "        # perform additive update rule with adaptive learning rate\n",
    "        if reward:\n",
    "            adjustment_factor = (self.n_miss+1)/(self.n_samples+1)\n",
    "        else:\n",
    "            adjustment_factor = (self.n_hit+1)/(self.n_samples+1)\n",
    "        \n",
    "        # apply the updates\n",
    "        apply_update(self.synaptic_weights[grid_ix], computed_delta_weights, adjustment_factor, self.small_qty)\n",
    "        \n",
    "    def relative_position(self, spike, neuron, neuron_rf):\n",
    "        row, col = neuron\n",
    "\n",
    "        relative_row = spike['y'] - row\n",
    "        relative_col = spike['x'] - col\n",
    "\n",
    "        return relative_row, relative_col\n",
    "    \n",
    "    \n",
    "    def get_sensitive_neurons(self):\n",
    "        \n",
    "        sensitive_neurons_to_pos = {}\n",
    "        for y, x in itertools.product(range(self.input_grid_shape[0]), range(self.input_grid_shape[1])) :\n",
    "            sensitive_neurons_to_pos[(y,x)] = []\n",
    "        \n",
    "        #print(sensitive_neurons_to_pos)\n",
    "        for row, col in itertools.product(range(self.grid_shape[0]), range(self.grid_shape[1])):\n",
    "            \n",
    "            neuron_center_row = row + self.neuron_rf//2\n",
    "            neuron_center_col = col + self.neuron_rf//2\n",
    "            \n",
    "            # relevant area for the neuron\n",
    "            row_lb = neuron_center_row-self.neuron_rf//2\n",
    "            row_ub = neuron_center_row+self.neuron_rf//2\n",
    "            col_lb = neuron_center_col-self.neuron_rf//2\n",
    "            col_ub = neuron_center_col+self.neuron_rf//2\n",
    "            \n",
    "            for y, x in itertools.product(range(row_lb, row_ub+1), range(col_lb, col_ub+1)):\n",
    "                sensitive_neurons_to_pos[(y,x)].append((row, col))\n",
    "                \n",
    "        return sensitive_neurons_to_pos\n",
    "                \n",
    "    def sensitive_neurons(self, spike):\n",
    "        return self.sensitive_neurons_to_pos[(spike['y'], spike['x'])]\n",
    "    \n",
    "    def get_whether_pre_spiked_before_post(self, s2_spike, c1_spikes):\n",
    "        \n",
    "        # we first need to understand which are the relevant rows and columns for an S2 neuron\n",
    "        # if a receptive field is 5x5 we have a relevant region in [0:4, 0:4] with center in 2,2\n",
    "        # this neuron centered in 2,2 is the S2 neuron (0,0), therefore:\n",
    "        \n",
    "        pre_spiked_before_post = np.full((self.neuron_rf, self.neuron_rf), False)\n",
    "        \n",
    "        neuron = (s2_spike['y'], s2_spike['x'])\n",
    "        \n",
    "        for spike in c1_spikes:\n",
    "            \n",
    "            #print(f\"Winner spike {s2_spike}, current spike {spike}\")\n",
    "            \n",
    "            if neuron in self.sensitive_neurons(spike):\n",
    "                relative_y, relative_x = self.relative_position(spike, neuron, self.neuron_rf)\n",
    "            \n",
    "                # and it spiked before\n",
    "                if(spike['ts'] <= s2_spike['ts']):\n",
    "                    \n",
    "                    #print(f\"Yeah it spiked before and relevant\")\n",
    "                    # we signal true:\n",
    "                    pre_spiked_before_post[relative_y, relative_x] = True\n",
    "                    \n",
    "               # else if silent or spiked later we keep it false\n",
    "            \n",
    "            # if not in receptive field we also keep it false\n",
    "            \n",
    "        return pre_spiked_before_post\n"
   ]
  },
  {
   "cell_type": "markdown",
   "metadata": {},
   "source": [
    "### R-STDP\n",
    "\n",
    "The weight updates are modulated by a reward/punishment signal which is received according to the correctness/incorrectness of the network's decision. The network's decision is given by the class associated to the grid which contains the first neuron to fire.\n",
    "\n",
    "If reward:\n",
    "$$\\Delta w_{ij} = \n",
    "\\begin{cases}\n",
    "a_r^+ \\times w_{ij} \\times (1-w_{ij}) & \\text{if } t^{f}_{j} \\leq t^{f}_{input} \\\\\n",
    "a_r^- \\times w_{ij} \\times (1-w_{ij}) &  \\text{if } t^{f}_{j} > t^{f}_{input} \\text{ or $j$ is silent }\\\\ \n",
    "\\end{cases}$$\n",
    "\n",
    "If punishment:\n",
    "$$\n",
    "\\Delta w_{ij} = \n",
    "\\begin{cases}\n",
    "a_p^+ \\times w_{ij} \\times (1-w_{ij}) &  \\text{if } t^{f}_{j} > t^{f}_{input} \\text{ or $j$ is silent }\\\\ \n",
    "a_p^- \\times w_{ij} \\times (1-w_{ij}) & \\text{if } t^{f}_{j} \\leq t^{f}_{input} \\\\\n",
    "\\end{cases}$$\n",
    "\n",
    "  \n",
    "**If none of the neurons in the grids fire, no reward/punishment signal is generated and thus no weight change is applied.**"
   ]
  },
  {
   "cell_type": "code",
   "execution_count": 9,
   "metadata": {},
   "outputs": [],
   "source": [
    "def compute_RSTDP(synaptic_weights, pre_spiked_before_post, reward, Ar_plus, Ar_neg, Ap_plus, Ap_neg):\n",
    "    \"\"\"\n",
    "        Expects:\n",
    "            -  synaptic weights from a given grid\n",
    "            - a matrix indicating for each orientation row and column whether there was a spike\n",
    "            in that position firing before the winner spike\n",
    "            - reward or punishment\n",
    "            - parameters for RSTDP\n",
    "    \"\"\"\n",
    "    \n",
    "    # get C1-S2 synapses parameters\n",
    "    n_rows, n_cols = synaptic_weights.shape\n",
    "    \n",
    "    # initialize a container for the delta weights\n",
    "    delta_weights = np.zeros((n_rows, n_cols))\n",
    "    \n",
    "    # for each orientation, row and column (i.e. for each synaptic weight)\n",
    "    for (row, col), w_ij in np.ndenumerate(synaptic_weights):\n",
    "        \n",
    "        logging.info(f'Reward{reward}')\n",
    "        if reward: # apply normal STDP\n",
    "            \n",
    "            if pre_spiked_before_post[row,col]:\n",
    "                # correct decision, helpful neuron, boost weights so it reacts faster next time\n",
    "                delta_weights[row,col] = Ar_plus * synaptic_weights[row,col] * (1-synaptic_weights[row,col])\n",
    "                \n",
    "            else: # spiked after or silent\n",
    "                # correct decision, but not helpful spike, decrease weights ...\n",
    "                delta_weights[row,col] = Ar_neg * synaptic_weights[row,col] * (1-synaptic_weights[row,col])\n",
    "\n",
    "        else: # punishment signal reverses the polarity of STDP\n",
    "\n",
    "            if pre_spiked_before_post[row,col]:\n",
    "                # bad decision, decrease weights so we don't make the mistake next time\n",
    "                delta_weights[row,col] = Ap_neg * synaptic_weights[row,col] * (1-synaptic_weights[row,col])\n",
    "                \n",
    "            else: # spiked after or silent\n",
    "                # bad decision, but increase weights just to be sensitive to something else\n",
    "                delta_weights[row,col] = Ap_plus * synaptic_weights[row,col] * (1-synaptic_weights[row,col])\n",
    "    \n",
    "    return delta_weights\n"
   ]
  },
  {
   "cell_type": "code",
   "execution_count": 10,
   "metadata": {},
   "outputs": [],
   "source": [
    "def apply_update(synaptic_weights, computed_delta_weights, adjustment_factor, small_qty):\n",
    "    \"\"\" \n",
    "        Expects:\n",
    "            - synaptic weights from a given grid\n",
    "            - a delta weights computed with rstdp\n",
    "            - an adjustment factor acting as a learning rate\n",
    "            - a small quantity to keep weights between [small_qty, 1-small_qty]\n",
    "    \"\"\"\n",
    "\n",
    "    synaptic_weights += adjustment_factor * computed_delta_weights\n",
    "\n",
    "    # keep weights between 0 and 1\n",
    "    for (row, col), _ in np.ndenumerate(synaptic_weights):\n",
    "\n",
    "        if synaptic_weights[row, col] >= (1 - small_qty) : \n",
    "            synaptic_weights[row, col] = 1 - small_qty\n",
    "        elif synaptic_weights[row, col] <= 0 : \n",
    "            synaptic_weights[row, col] = 0 + small_qty"
   ]
  },
  {
   "cell_type": "code",
   "execution_count": 11,
   "metadata": {},
   "outputs": [],
   "source": [
    "ng = NeuronalGrids(a.shape, n_grids=4)"
   ]
  },
  {
   "cell_type": "code",
   "execution_count": 12,
   "metadata": {},
   "outputs": [
    {
     "name": "stdout",
     "output_type": "stream",
     "text": [
      "Spike x=0, y=0\n",
      "\t Affected (0, 0), Relative position: x=[0] y=[0]\n",
      "Spike x=4, y=0\n",
      "\t Affected (0, 2), Relative position: x=[2] y=[0]\n",
      "\t Affected (0, 3), Relative position: x=[1] y=[0]\n",
      "\t Affected (0, 4), Relative position: x=[0] y=[0]\n",
      "Spike x=5, y=0\n",
      "\t Affected (0, 3), Relative position: x=[2] y=[0]\n",
      "\t Affected (0, 4), Relative position: x=[1] y=[0]\n",
      "\t Affected (0, 5), Relative position: x=[0] y=[0]\n",
      "Spike x=6, y=0\n",
      "\t Affected (0, 4), Relative position: x=[2] y=[0]\n",
      "\t Affected (0, 5), Relative position: x=[1] y=[0]\n",
      "\t Affected (0, 6), Relative position: x=[0] y=[0]\n",
      "Spike x=10, y=0\n",
      "\t Affected (0, 8), Relative position: x=[2] y=[0]\n",
      "Spike x=0, y=1\n",
      "\t Affected (0, 0), Relative position: x=[0] y=[1]\n",
      "Spike x=1, y=1\n",
      "\t Affected (0, 0), Relative position: x=[1] y=[1]\n",
      "\t Affected (0, 1), Relative position: x=[0] y=[1]\n",
      "Spike x=5, y=1\n",
      "\t Affected (0, 3), Relative position: x=[2] y=[1]\n",
      "\t Affected (0, 4), Relative position: x=[1] y=[1]\n",
      "\t Affected (0, 5), Relative position: x=[0] y=[1]\n",
      "Spike x=9, y=1\n",
      "\t Affected (0, 7), Relative position: x=[2] y=[1]\n",
      "\t Affected (0, 8), Relative position: x=[1] y=[1]\n",
      "Spike x=10, y=1\n",
      "\t Affected (0, 8), Relative position: x=[2] y=[1]\n",
      "Spike x=0, y=2\n",
      "\t Affected (0, 0), Relative position: x=[0] y=[2]\n",
      "Spike x=10, y=2\n",
      "\t Affected (0, 8), Relative position: x=[2] y=[2]\n"
     ]
    }
   ],
   "source": [
    "for (j,i), elem in np.ndenumerate(a.grid):\n",
    "    if elem > 0 : \n",
    "        print(f'Spike x={i}, y={j}')\n",
    "        affected_neurons = ng.sensitive_neurons_to_pos[(j,i)]\n",
    "        for neuron in affected_neurons:\n",
    "            relative_y, relative_x = ng.relative_position(np.array([(i, j, 0)], dtype=spike_dtype), neuron, 3)\n",
    "            print(f'\\t Affected {neuron}, Relative position: x={relative_x} y={relative_y}')"
   ]
  },
  {
   "cell_type": "code",
   "execution_count": 13,
   "metadata": {},
   "outputs": [
    {
     "name": "stdout",
     "output_type": "stream",
     "text": [
      "Accuracy: 0.56\n"
     ]
    }
   ],
   "source": [
    "correct = 0\n",
    "n_iters = 1000\n",
    "for i in range(n_iters):\n",
    "    rand_number = random.random()\n",
    "    if rand_number > 0.5 :\n",
    "        #print(\"\\nProcessing 0\")\n",
    "        pred = ng.process(a.spikes, 0)\n",
    "        correct += int(pred == 0) \n",
    "        logging.info('-'*20 + f'Predicted {pred}, real {0}')\n",
    "    else:\n",
    "        #print(\"\\nProcessing 1\")\n",
    "        pred = ng.process(b.spikes, 1)\n",
    "        correct += int(pred == 1) \n",
    "        logging.info('-'*20 + f'Predicted {pred}, real {1}')\n",
    "    \n",
    "print(f'Accuracy: {correct/(n_iters)}')"
   ]
  },
  {
   "cell_type": "code",
   "execution_count": 14,
   "metadata": {},
   "outputs": [
    {
     "data": {
      "image/png": "[encoded data removed]",
      "text/plain": [
       "<Figure size 432x288 with 1 Axes>"
      ]
     },
     "metadata": {
      "needs_background": "light"
     },
     "output_type": "display_data"
    },
    {
     "data": {
      "image/png": "[encoded data removed]",
      "text/plain": [
       "<Figure size 432x288 with 1 Axes>"
      ]
     },
     "metadata": {
      "needs_background": "light"
     },
     "output_type": "display_data"
    },
    {
     "data": {
      "image/png": "[encoded data removed]",
      "text/plain": [
       "<Figure size 432x288 with 1 Axes>"
      ]
     },
     "metadata": {
      "needs_background": "light"
     },
     "output_type": "display_data"
    },
    {
     "data": {
      "image/png": "[encoded data removed]",
      "text/plain": [
       "<Figure size 432x288 with 1 Axes>"
      ]
     },
     "metadata": {
      "needs_background": "light"
     },
     "output_type": "display_data"
    }
   ],
   "source": [
    "for i in range(len(ng.synaptic_weights)):\n",
    "    plt.imshow(ng.synaptic_weights[i], cmap='gray')\n",
    "    plt.show()"
   ]
  },
  {
   "cell_type": "code",
   "execution_count": 15,
   "metadata": {},
   "outputs": [
    {
     "data": {
      "text/plain": [
       "array([[0.9705313 , 0.9934735 , 0.96780725],\n",
       "       [0.40572547, 0.20777256, 0.23208937],\n",
       "       [0.28069091, 0.43783411, 0.2063621 ]])"
      ]
     },
     "execution_count": 15,
     "metadata": {},
     "output_type": "execute_result"
    }
   ],
   "source": [
    "ng.synaptic_weights[0]"
   ]
  },
  {
   "cell_type": "code",
   "execution_count": null,
   "metadata": {},
   "outputs": [],
   "source": []
  }
 ],
 "metadata": {
  "kernelspec": {
   "display_name": "Python 3",
   "language": "python",
   "name": "python3"
  },
  "language_info": {
   "codemirror_mode": {
    "name": "ipython",
    "version": 3
   },
   "file_extension": ".py",
   "mimetype": "text/x-python",
   "name": "python",
   "nbconvert_exporter": "python",
   "pygments_lexer": "ipython3",
   "version": "3.7.7"
  }
 },
 "nbformat": 4,
 "nbformat_minor": 4
}
